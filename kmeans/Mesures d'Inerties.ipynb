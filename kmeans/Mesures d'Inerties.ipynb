{
 "cells": [
  {
   "cell_type": "code",
   "execution_count": 1,
   "id": "ed8158e4",
   "metadata": {},
   "outputs": [
    {
     "name": "stderr",
     "output_type": "stream",
     "text": [
      "C:\\Users\\lenovo\\anaconda3\\lib\\site-packages\\scipy\\__init__.py:155: UserWarning: A NumPy version >=1.18.5 and <1.25.0 is required for this version of SciPy (detected version 1.26.0\n",
      "  warnings.warn(f\"A NumPy version >={np_minversion} and <{np_maxversion}\"\n"
     ]
    }
   ],
   "source": [
    "## Les bibliothèques nécessaires\n",
    "import numpy as np\n",
    "from sklearn.datasets import make_blobs"
   ]
  },
  {
   "cell_type": "code",
   "execution_count": 3,
   "id": "22af52af",
   "metadata": {},
   "outputs": [],
   "source": [
    "centers=[[0,0],[3,3]]\n",
    "data,true_labels=make_blobs(centers=centers,n_samples=10)"
   ]
  },
  {
   "cell_type": "code",
   "execution_count": 4,
   "id": "88737133",
   "metadata": {},
   "outputs": [],
   "source": [
    "def cluster(data,true_labels):\n",
    "    cluster=[[] for _ in range(2)]\n",
    "    for i in range(data.shape[0]):\n",
    "        cluster[true_labels[i]].append(data[i])\n",
    "    return cluster"
   ]
  },
  {
   "cell_type": "code",
   "execution_count": 5,
   "id": "76931136",
   "metadata": {},
   "outputs": [
    {
     "data": {
      "text/plain": [
       "[[array([ 0.32102952, -2.03352205]),\n",
       "  array([2.11374034, 0.38195696]),\n",
       "  array([-0.37708521, -0.97022268]),\n",
       "  array([-0.58285864, -0.96649873]),\n",
       "  array([-2.00954157,  0.87615448])],\n",
       " [array([4.62297107, 3.22452531]),\n",
       "  array([2.08961351, 3.47872992]),\n",
       "  array([4.11190271, 2.61195011]),\n",
       "  array([2.47471994, 3.54021462]),\n",
       "  array([4.00318097, 3.38311814])]]"
      ]
     },
     "execution_count": 5,
     "metadata": {},
     "output_type": "execute_result"
    }
   ],
   "source": [
    "cluster(data,true_labels)"
   ]
  },
  {
   "cell_type": "code",
   "execution_count": 8,
   "id": "04251a2d",
   "metadata": {},
   "outputs": [],
   "source": [
    "from scipy.spatial import distance\n",
    "def inertie_intra_class(cluster):\n",
    "    n=0\n",
    "    inertie=0\n",
    "    for cl in cluster:\n",
    "        s=0\n",
    "        for x in cl:\n",
    "            for y in cl:\n",
    "                s+=distance.euclidean(x,y)**2\n",
    "        n=n+len(cl)\n",
    "        inertie+=s/(2*len(cl))\n",
    "    print(n)\n",
    "    return inertie/n"
   ]
  },
  {
   "cell_type": "code",
   "execution_count": null,
   "id": "8dc3c964",
   "metadata": {},
   "outputs": [],
   "source": [
    "def intra_clas(cluster):\n",
    "    i=0\n",
    "    for cl in cluster:\n",
    "        ic=0\n",
    "        for x in cl:\n",
    "            ic=ic+distance.euclidean(x,np.mean(cl,axis=0))**2\n",
    "        i=i+ic/len(cl)\n",
    "    return i/n"
   ]
  },
  {
   "cell_type": "code",
   "execution_count": 9,
   "id": "2f7e93e3",
   "metadata": {},
   "outputs": [
    {
     "name": "stdout",
     "output_type": "stream",
     "text": [
      "10\n"
     ]
    },
    {
     "data": {
      "text/plain": [
       "1.9970270253013118"
      ]
     },
     "execution_count": 9,
     "metadata": {},
     "output_type": "execute_result"
    }
   ],
   "source": [
    "inertie_intra_class(cluster(data,true_labels))"
   ]
  },
  {
   "cell_type": "code",
   "execution_count": 10,
   "id": "74d85e8d",
   "metadata": {},
   "outputs": [],
   "source": [
    "## Inertie inter-classe\n",
    "def inertie_inter_class(cluster,g):\n",
    "    n=0\n",
    "    inertie=0\n",
    "    for cl in cluster:\n",
    "        c=np.mean(cl,axis=0)\n",
    "        print(c)\n",
    "        inertie+=len(cl)*distance.euclidean(c,g)**2\n",
    "        n+=len(cl)\n",
    "    return inertie/n"
   ]
  },
  {
   "cell_type": "code",
   "execution_count": 15,
   "id": "5b958709",
   "metadata": {},
   "outputs": [
    {
     "name": "stdout",
     "output_type": "stream",
     "text": [
      "[-0.10694311 -0.5424264 ]\n",
      "[3.46047764 3.24770762]\n"
     ]
    },
    {
     "data": {
      "text/plain": [
       "6.772901680353544"
      ]
     },
     "execution_count": 15,
     "metadata": {},
     "output_type": "execute_result"
    }
   ],
   "source": [
    "inertie_inter_class(cluster(data,true_labels),np.mean(data,axis=0))\n",
    "#print(np.mean(data,axis=0))"
   ]
  },
  {
   "cell_type": "code",
   "execution_count": 13,
   "id": "12316e9d",
   "metadata": {},
   "outputs": [],
   "source": [
    "def inertie_totale(data):\n",
    "    g=np.mean(data,axis=0)\n",
    "    s=0\n",
    "    for x in data:\n",
    "        s+=distance.euclidean(x,g)**2\n",
    "    return s/data.shape[0]"
   ]
  },
  {
   "cell_type": "code",
   "execution_count": 14,
   "id": "62930b12",
   "metadata": {},
   "outputs": [
    {
     "data": {
      "text/plain": [
       "8.769928705654854"
      ]
     },
     "execution_count": 14,
     "metadata": {},
     "output_type": "execute_result"
    }
   ],
   "source": [
    "inertie_totale(data)"
   ]
  },
  {
   "cell_type": "code",
   "execution_count": 16,
   "id": "8b6f9fd5",
   "metadata": {},
   "outputs": [
    {
     "name": "stdout",
     "output_type": "stream",
     "text": [
      "[-0.10694311 -0.5424264 ]\n",
      "[3.46047764 3.24770762]\n",
      "10\n"
     ]
    },
    {
     "data": {
      "text/plain": [
       "8.769928705654856"
      ]
     },
     "execution_count": 16,
     "metadata": {},
     "output_type": "execute_result"
    }
   ],
   "source": [
    "inertie_inter_class(cluster(data,true_labels),np.mean(data,axis=0))+inertie_intra_class(cluster(data,true_labels))"
   ]
  },
  {
   "cell_type": "code",
   "execution_count": null,
   "id": "7a0cf15b",
   "metadata": {},
   "outputs": [],
   "source": []
  }
 ],
 "metadata": {
  "kernelspec": {
   "display_name": "Python 3 (ipykernel)",
   "language": "python",
   "name": "python3"
  },
  "language_info": {
   "codemirror_mode": {
    "name": "ipython",
    "version": 3
   },
   "file_extension": ".py",
   "mimetype": "text/x-python",
   "name": "python",
   "nbconvert_exporter": "python",
   "pygments_lexer": "ipython3",
   "version": "3.9.13"
  }
 },
 "nbformat": 4,
 "nbformat_minor": 5
}
