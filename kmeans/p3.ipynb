{
 "cells": [
  {
   "cell_type": "code",
   "execution_count": 22,
   "metadata": {},
   "outputs": [],
   "source": [
    "import numpy as np\n",
    "from sklearn.datasets import make_blobs\n",
    "from scipy.spatial.distance import cdist"
   ]
  },
  {
   "cell_type": "code",
   "execution_count": 23,
   "metadata": {},
   "outputs": [],
   "source": [
    "#centers = [[1, 2],[7, 8]]\n",
    "centers = [[0, 0],[1, 1]]\n",
    "data, labels = make_blobs(n_samples=10, centers=centers) \n",
    "# n_samples: number of samples, centers: number of centers"
   ]
  },
  {
   "cell_type": "code",
   "execution_count": 24,
   "metadata": {},
   "outputs": [],
   "source": [
    "def cluster(data,true_labels):\n",
    "    cluster=[[] for _ in range(2)]\n",
    "    for i in range(data.shape[0]):\n",
    "        cluster[true_labels[i]].append(data[i])\n",
    "    return cluster"
   ]
  },
  {
   "cell_type": "code",
   "execution_count": 25,
   "metadata": {},
   "outputs": [
    {
     "data": {
      "text/plain": [
       "[[array([ 0.47832166, -0.82321924]),\n",
       "  array([-1.64056009, -0.04785039]),\n",
       "  array([-0.35029624, -0.58508639]),\n",
       "  array([-0.68703051,  1.07711928]),\n",
       "  array([-0.04962901,  0.61314939])],\n",
       " [array([1.08612315, 0.61640344]),\n",
       "  array([1.97791662, 2.73058925]),\n",
       "  array([2.34248557, 2.62098988]),\n",
       "  array([1.56510296, 1.35288203]),\n",
       "  array([2.10057826, 0.84877808])]]"
      ]
     },
     "execution_count": 25,
     "metadata": {},
     "output_type": "execute_result"
    }
   ],
   "source": [
    "cluster(data,labels)"
   ]
  },
  {
   "cell_type": "code",
   "execution_count": 26,
   "metadata": {},
   "outputs": [],
   "source": [
    "def inertieIntra_Class(cluster):\n",
    "    n=0\n",
    "    inertie=0\n",
    "    for c1 in cluster:\n",
    "        s=0\n",
    "        for x in c1:\n",
    "            for y in c1:\n",
    "                s+=cdist(x.reshape(1,-1),y.reshape(1,-1))**2\n",
    "        n=n+len(c1)\n",
    "        inertie+=s/(2*len(c1))\n",
    "    print(n)\n",
    "    return inertie/n"
   ]
  },
  {
   "cell_type": "code",
   "execution_count": 27,
   "metadata": {},
   "outputs": [],
   "source": [
    "def intra_class(cluster):\n",
    "    i=0\n",
    "    for c1 in cluster:\n",
    "        s=0\n",
    "        for x in c1:\n",
    "            for y in c1:\n",
    "                s+=s+cdist(x.reshape(1,-1),y.reshape(1,-1))**2\n",
    "        i+=s/(2*len(c1))\n",
    "    return i/len(cluster)"
   ]
  },
  {
   "cell_type": "code",
   "execution_count": null,
   "metadata": {},
   "outputs": [],
   "source": [
    "def affectation(data,centers):\n",
    "    labels=[]\n",
    "    groups=[[] for _ in range(len(centers))]\n",
    "    for x in data:\n",
    "        d1=cdist(x.reshape(1,-1),centers[0].reshape(1,-1))\n",
    "        d2=cdist(x.reshape(1,-1),centers[1].reshape(1,-1))\n",
    "        if d1<d2:\n",
    "            labels.append(0)\n",
    "        else:\n",
    "            labels.append(1)\n",
    "    return labels\n"
   ]
  },
  {
   "cell_type": "code",
   "execution_count": null,
   "metadata": {},
   "outputs": [],
   "source": [
    "def mise_a_jour(data,labels):\n",
    "    cluster=[[] for _ in range(2)]\n",
    "    for i in range(data.shape[0]):\n",
    "        cluster[labels[i]].append(data[i])\n",
    "    centers=[]\n",
    "    for c1 in cluster:\n",
    "        centers.append(np.mean(c1,axis=0))\n",
    "    return centers"
   ]
  }
 ],
 "metadata": {
  "kernelspec": {
   "display_name": "Python 3",
   "language": "python",
   "name": "python3"
  },
  "language_info": {
   "codemirror_mode": {
    "name": "ipython",
    "version": 3
   },
   "file_extension": ".py",
   "mimetype": "text/x-python",
   "name": "python",
   "nbconvert_exporter": "python",
   "pygments_lexer": "ipython3",
   "version": "3.10.12"
  }
 },
 "nbformat": 4,
 "nbformat_minor": 2
}
