{
 "cells": [
  {
   "cell_type": "code",
   "execution_count": 134,
   "metadata": {},
   "outputs": [],
   "source": [
    "# Libraries installation\n",
    "import pandas as pd\n",
    "import numpy as np\n",
    "from sklearn.model_selection import train_test_split\n",
    "from sklearn.linear_model import LogisticRegression\n",
    "from sklearn.metrics import classification_report, confusion_matrix\n",
    "import matplotlib.pyplot as plt"
   ]
  },
  {
   "cell_type": "code",
   "execution_count": 135,
   "metadata": {},
   "outputs": [
    {
     "data": {
      "text/html": [
       "<div>\n",
       "<style scoped>\n",
       "    .dataframe tbody tr th:only-of-type {\n",
       "        vertical-align: middle;\n",
       "    }\n",
       "\n",
       "    .dataframe tbody tr th {\n",
       "        vertical-align: top;\n",
       "    }\n",
       "\n",
       "    .dataframe thead th {\n",
       "        text-align: right;\n",
       "    }\n",
       "</style>\n",
       "<table border=\"1\" class=\"dataframe\">\n",
       "  <thead>\n",
       "    <tr style=\"text-align: right;\">\n",
       "      <th></th>\n",
       "      <th>Id</th>\n",
       "      <th>SepalLengthCm</th>\n",
       "      <th>SepalWidthCm</th>\n",
       "      <th>PetalLengthCm</th>\n",
       "      <th>PetalWidthCm</th>\n",
       "      <th>Species</th>\n",
       "    </tr>\n",
       "  </thead>\n",
       "  <tbody>\n",
       "    <tr>\n",
       "      <th>0</th>\n",
       "      <td>1</td>\n",
       "      <td>5.1</td>\n",
       "      <td>3.5</td>\n",
       "      <td>1.4</td>\n",
       "      <td>0.2</td>\n",
       "      <td>Iris-setosa</td>\n",
       "    </tr>\n",
       "    <tr>\n",
       "      <th>1</th>\n",
       "      <td>2</td>\n",
       "      <td>4.9</td>\n",
       "      <td>3.0</td>\n",
       "      <td>1.4</td>\n",
       "      <td>0.2</td>\n",
       "      <td>Iris-setosa</td>\n",
       "    </tr>\n",
       "    <tr>\n",
       "      <th>2</th>\n",
       "      <td>3</td>\n",
       "      <td>4.7</td>\n",
       "      <td>3.2</td>\n",
       "      <td>1.3</td>\n",
       "      <td>0.2</td>\n",
       "      <td>Iris-setosa</td>\n",
       "    </tr>\n",
       "    <tr>\n",
       "      <th>3</th>\n",
       "      <td>4</td>\n",
       "      <td>4.6</td>\n",
       "      <td>3.1</td>\n",
       "      <td>1.5</td>\n",
       "      <td>0.2</td>\n",
       "      <td>Iris-setosa</td>\n",
       "    </tr>\n",
       "    <tr>\n",
       "      <th>4</th>\n",
       "      <td>5</td>\n",
       "      <td>5.0</td>\n",
       "      <td>3.6</td>\n",
       "      <td>1.4</td>\n",
       "      <td>0.2</td>\n",
       "      <td>Iris-setosa</td>\n",
       "    </tr>\n",
       "  </tbody>\n",
       "</table>\n",
       "</div>"
      ],
      "text/plain": [
       "   Id  SepalLengthCm  SepalWidthCm  PetalLengthCm  PetalWidthCm      Species\n",
       "0   1            5.1           3.5            1.4           0.2  Iris-setosa\n",
       "1   2            4.9           3.0            1.4           0.2  Iris-setosa\n",
       "2   3            4.7           3.2            1.3           0.2  Iris-setosa\n",
       "3   4            4.6           3.1            1.5           0.2  Iris-setosa\n",
       "4   5            5.0           3.6            1.4           0.2  Iris-setosa"
      ]
     },
     "execution_count": 135,
     "metadata": {},
     "output_type": "execute_result"
    }
   ],
   "source": [
    "# Data import\n",
    "df = pd.read_csv(\"data/Iris.csv\")\n",
    "df.head()"
   ]
  },
  {
   "cell_type": "code",
   "execution_count": 136,
   "metadata": {},
   "outputs": [],
   "source": [
    "# Data preparation for training\n",
    "X = df.drop(['Species'], axis=1)\n",
    "X = X.drop(['Id'], axis=1)\n",
    "target =  df['Species'].map({'Iris-setosa': 0, 'Iris-versicolor': 1, 'Iris-virginica': 2})\n",
    "X_train, X_test, y_train, y_test = train_test_split(X, target, test_size=0.2, random_state=0)"
   ]
  },
  {
   "cell_type": "code",
   "execution_count": 137,
   "metadata": {},
   "outputs": [
    {
     "data": {
      "text/html": [
       "<div>\n",
       "<style scoped>\n",
       "    .dataframe tbody tr th:only-of-type {\n",
       "        vertical-align: middle;\n",
       "    }\n",
       "\n",
       "    .dataframe tbody tr th {\n",
       "        vertical-align: top;\n",
       "    }\n",
       "\n",
       "    .dataframe thead th {\n",
       "        text-align: right;\n",
       "    }\n",
       "</style>\n",
       "<table border=\"1\" class=\"dataframe\">\n",
       "  <thead>\n",
       "    <tr style=\"text-align: right;\">\n",
       "      <th></th>\n",
       "      <th>SepalLengthCm</th>\n",
       "      <th>SepalWidthCm</th>\n",
       "      <th>PetalLengthCm</th>\n",
       "      <th>PetalWidthCm</th>\n",
       "    </tr>\n",
       "  </thead>\n",
       "  <tbody>\n",
       "    <tr>\n",
       "      <th>137</th>\n",
       "      <td>0.610470</td>\n",
       "      <td>0.108048</td>\n",
       "      <td>0.943562</td>\n",
       "      <td>0.732966</td>\n",
       "    </tr>\n",
       "    <tr>\n",
       "      <th>84</th>\n",
       "      <td>-0.565396</td>\n",
       "      <td>-0.123483</td>\n",
       "      <td>0.383307</td>\n",
       "      <td>0.346630</td>\n",
       "    </tr>\n",
       "    <tr>\n",
       "      <th>27</th>\n",
       "      <td>-0.800569</td>\n",
       "      <td>1.034174</td>\n",
       "      <td>-1.297456</td>\n",
       "      <td>-1.327496</td>\n",
       "    </tr>\n",
       "    <tr>\n",
       "      <th>127</th>\n",
       "      <td>0.257711</td>\n",
       "      <td>-0.123483</td>\n",
       "      <td>0.607409</td>\n",
       "      <td>0.732966</td>\n",
       "    </tr>\n",
       "    <tr>\n",
       "      <th>132</th>\n",
       "      <td>0.610470</td>\n",
       "      <td>-0.586546</td>\n",
       "      <td>0.999587</td>\n",
       "      <td>1.248082</td>\n",
       "    </tr>\n",
       "  </tbody>\n",
       "</table>\n",
       "</div>"
      ],
      "text/plain": [
       "     SepalLengthCm  SepalWidthCm  PetalLengthCm  PetalWidthCm\n",
       "137       0.610470      0.108048       0.943562      0.732966\n",
       "84       -0.565396     -0.123483       0.383307      0.346630\n",
       "27       -0.800569      1.034174      -1.297456     -1.327496\n",
       "127       0.257711     -0.123483       0.607409      0.732966\n",
       "132       0.610470     -0.586546       0.999587      1.248082"
      ]
     },
     "execution_count": 137,
     "metadata": {},
     "output_type": "execute_result"
    }
   ],
   "source": [
    "# Normalize data\n",
    "X_norm = (X_train- X_train.mean()).div( X_train.std())\n",
    "X_norm.head()"
   ]
  },
  {
   "cell_type": "code",
   "execution_count": 138,
   "metadata": {},
   "outputs": [
    {
     "data": {
      "text/plain": [
       "137    2\n",
       "84     1\n",
       "27     0\n",
       "127    2\n",
       "132    2\n",
       "Name: Species, dtype: int64"
      ]
     },
     "execution_count": 138,
     "metadata": {},
     "output_type": "execute_result"
    }
   ],
   "source": [
    "y_train.head()"
   ]
  },
  {
   "cell_type": "code",
   "execution_count": 139,
   "metadata": {},
   "outputs": [],
   "source": [
    "# Sigmoid function\n",
    "def sigmoid(z):\n",
    "    return 1 / (1 + np.exp(-z))"
   ]
  },
  {
   "cell_type": "code",
   "execution_count": 140,
   "metadata": {},
   "outputs": [],
   "source": [
    "# linear regression function\n",
    "# X: input data # y: output data # theta: parameters # alpha: learning rate # num_iters: number of iterations\n",
    "\n",
    "def logregression(X, y, theta, alpha, num_iters):\n",
    "    m = len(y) # number of training examples\n",
    "    for i in range(num_iters):\n",
    "        z = np.dot(X, theta) \n",
    "        h = sigmoid(z) # hypothesis\n",
    "        gradient = np.dot(X.T, (h - y)) / m\n",
    "        theta = theta - alpha * gradient # update theta\n",
    "    return theta"
   ]
  },
  {
   "cell_type": "code",
   "execution_count": 141,
   "metadata": {},
   "outputs": [],
   "source": [
    "# Prediction function\n",
    "def predict(X, theta):\n",
    "    z = np.dot(X, theta) # z = theta.T * X\n",
    "    h = sigmoid(z) # h is the sigmoid function\n",
    "    h = h.round() # round to 0 or 1\n",
    "    return h"
   ]
  },
  {
   "cell_type": "code",
   "execution_count": 142,
   "metadata": {},
   "outputs": [],
   "source": [
    "# Error for classification model\n",
    "def error(y, h):\n",
    "    m = len(y) # number of training examples\n",
    "    error = 0\n",
    "    for i in range(m):\n",
    "        if y[i] == 1:\n",
    "            error -= np.log(h[i]) # if y = 1, error = -log(h)\n",
    "        else:\n",
    "            error -= np.log(1 - h[i]) # if y = 0, error = -log(1 - h)\n",
    "    error = error / m # average error\n",
    "    return error"
   ]
  },
  {
   "cell_type": "code",
   "execution_count": 143,
   "metadata": {},
   "outputs": [],
   "source": [
    "# Gradient descent function\n",
    "def gradient_descent(X, y, theta, alpha, num_iters):\n",
    "    m = len(y) # number of training examples\n",
    "    error_history = np.zeros(num_iters) # initialize error_history\n",
    "    for i in range(num_iters):\n",
    "        z = np.dot(X, theta) # z = theta.T * X\n",
    "        h = sigmoid(z) # h is the sigmoid function\n",
    "        gradient = np.dot(X.T, (h - y)) / m # gradient of error function\n",
    "        theta = theta - alpha * gradient # update theta\n",
    "        error_history[i] = error(y, h) # save error to error_history\n",
    "    return theta, error_history"
   ]
  },
  {
   "cell_type": "code",
   "execution_count": 144,
   "metadata": {},
   "outputs": [],
   "source": [
    "# Evaluation : Confusion matrix\n",
    "def confusion_matrix(y_test, y_pred):\n",
    "    unique_classes = np.unique(np.concatenate((y_test, y_pred)))\n",
    "    num_classes = len(unique_classes)\n",
    "    \n",
    "    cm = np.zeros((num_classes, num_classes))\n",
    "    \n",
    "    for i in range(len(y_test)):\n",
    "        cm[y_test[i] - 1][y_pred[i] - 1] += 1\n",
    "    \n",
    "    return cm\n",
    "\n"
   ]
  },
  {
   "cell_type": "code",
   "execution_count": 145,
   "metadata": {},
   "outputs": [],
   "source": [
    "# plot results\n",
    "def plot_results(X, y, theta):\n",
    "    # plot data\n",
    "    plt.scatter(X[y == 0].iloc[:, 0], X[y == 0].iloc[:, 1], label='Iris-setosa')\n",
    "    plt.scatter(X[y == 1].iloc[:, 0], X[y == 1].iloc[:, 1], label='Iris-versicolor')\n",
    "    plt.scatter(X[y == 2].iloc[:, 0], X[y == 2].iloc[:, 1], label='Iris-virginica')\n",
    "    # plot decision boundary\n",
    "    x1_min, x1_max = X.iloc[:, 0].min(), X.iloc[:, 0].max(),\n",
    "    x2_min, x2_max = X.iloc[:, 1].min(), X.iloc[:, 1].max(),\n",
    "    xx1, xx2 = np.meshgrid(np.linspace(x1_min, x1_max), np.linspace(x2_min, x2_max))\n",
    "    grid = np.c_[xx1.ravel(), xx2.ravel()]\n",
    "    probs = predict(grid, theta).reshape(xx1.shape)\n",
    "    plt.contour(xx1, xx2, probs, [0.5], linewidths=1, colors='black')\n",
    "    plt.legend()\n",
    "    plt.show()\n"
   ]
  },
  {
   "cell_type": "code",
   "execution_count": 146,
   "metadata": {},
   "outputs": [],
   "source": [
    "# main function\n",
    "def main():\n",
    "    # initialize theta\n",
    "    theta = np.zeros(X_norm.shape[1])\n",
    "    #print(\"theta: \", theta)\n",
    "    # train model\n",
    "    theta = logregression(X_norm, y_train, theta, 0.1, 1000)\n",
    "    #print(\"theta: \", theta)\n",
    "    # predict\n",
    "    y_pred = predict(X_norm, theta)\n",
    "    print(\"y_pred: \", y_pred)\n",
    "    # evaluate\n",
    "    #cm = confusion_matrix(y_test, y_pred)\n",
    "    #print(\"confusion matrix: \", cm)\n",
    "    #print(classification_report(y_test, y_pred)) \n",
    "    # plot results\n",
    "    plot_results(X_norm, y_train, theta)\n",
    "    "
   ]
  },
  {
   "cell_type": "code",
   "execution_count": 148,
   "metadata": {},
   "outputs": [
    {
     "name": "stdout",
     "output_type": "stream",
     "text": [
      "y_pred:  [1. 1. 0. 1. 1. 0. 0. 1. 1. 1. 1. 0. 1. 0. 0. 0. 1. 1. 1. 1. 1. 1. 1. 1.\n",
      " 1. 1. 1. 1. 1. 1. 1. 0. 1. 1. 0. 1. 1. 1. 0. 0. 1. 1. 0. 0. 1. 0. 1. 0.\n",
      " 0. 1. 1. 1. 0. 1. 1. 1. 1. 0. 0. 1. 1. 0. 1. 0. 1. 1. 0. 0. 1. 0. 0. 0.\n",
      " 1. 1. 1. 0. 0. 0. 1. 1. 0. 0. 1. 0. 1. 0. 1. 1. 0. 1. 0. 1. 0. 0. 1. 0.\n",
      " 1. 1. 1. 0. 1. 1. 1. 1. 0. 0. 1. 1. 0. 1. 1. 1. 1. 0. 0. 0. 1. 1. 1. 0.]\n"
     ]
    },
    {
     "ename": "ValueError",
     "evalue": "shapes (2500,2) and (4,) not aligned: 2 (dim 1) != 4 (dim 0)",
     "output_type": "error",
     "traceback": [
      "\u001b[0;31m---------------------------------------------------------------------------\u001b[0m",
      "\u001b[0;31mValueError\u001b[0m                                Traceback (most recent call last)",
      "\u001b[1;32m/media/tounani/Data/Github/old/ML&DL/p2/p2_log.ipynb Cell 14\u001b[0m line \u001b[0;36m1\n\u001b[0;32m----> <a href='vscode-notebook-cell:/media/tounani/Data/Github/old/ML%26DL/p2/p2_log.ipynb#X16sZmlsZQ%3D%3D?line=0'>1</a>\u001b[0m main()\n",
      "\u001b[1;32m/media/tounani/Data/Github/old/ML&DL/p2/p2_log.ipynb Cell 14\u001b[0m line \u001b[0;36m1\n\u001b[1;32m     <a href='vscode-notebook-cell:/media/tounani/Data/Github/old/ML%26DL/p2/p2_log.ipynb#X16sZmlsZQ%3D%3D?line=10'>11</a>\u001b[0m \u001b[39mprint\u001b[39m(\u001b[39m\"\u001b[39m\u001b[39my_pred: \u001b[39m\u001b[39m\"\u001b[39m, y_pred)\n\u001b[1;32m     <a href='vscode-notebook-cell:/media/tounani/Data/Github/old/ML%26DL/p2/p2_log.ipynb#X16sZmlsZQ%3D%3D?line=11'>12</a>\u001b[0m \u001b[39m# evaluate\u001b[39;00m\n\u001b[1;32m     <a href='vscode-notebook-cell:/media/tounani/Data/Github/old/ML%26DL/p2/p2_log.ipynb#X16sZmlsZQ%3D%3D?line=12'>13</a>\u001b[0m \u001b[39m#cm = confusion_matrix(y_test, y_pred)\u001b[39;00m\n\u001b[1;32m     <a href='vscode-notebook-cell:/media/tounani/Data/Github/old/ML%26DL/p2/p2_log.ipynb#X16sZmlsZQ%3D%3D?line=13'>14</a>\u001b[0m \u001b[39m#print(\"confusion matrix: \", cm)\u001b[39;00m\n\u001b[1;32m     <a href='vscode-notebook-cell:/media/tounani/Data/Github/old/ML%26DL/p2/p2_log.ipynb#X16sZmlsZQ%3D%3D?line=14'>15</a>\u001b[0m \u001b[39m#print(classification_report(y_test, y_pred)) \u001b[39;00m\n\u001b[1;32m     <a href='vscode-notebook-cell:/media/tounani/Data/Github/old/ML%26DL/p2/p2_log.ipynb#X16sZmlsZQ%3D%3D?line=15'>16</a>\u001b[0m \u001b[39m# plot results\u001b[39;00m\n\u001b[0;32m---> <a href='vscode-notebook-cell:/media/tounani/Data/Github/old/ML%26DL/p2/p2_log.ipynb#X16sZmlsZQ%3D%3D?line=16'>17</a>\u001b[0m plot_results(X_norm, y_train, theta)\n",
      "\u001b[1;32m/media/tounani/Data/Github/old/ML&DL/p2/p2_log.ipynb Cell 14\u001b[0m line \u001b[0;36m1\n\u001b[1;32m     <a href='vscode-notebook-cell:/media/tounani/Data/Github/old/ML%26DL/p2/p2_log.ipynb#X16sZmlsZQ%3D%3D?line=9'>10</a>\u001b[0m xx1, xx2 \u001b[39m=\u001b[39m np\u001b[39m.\u001b[39mmeshgrid(np\u001b[39m.\u001b[39mlinspace(x1_min, x1_max), np\u001b[39m.\u001b[39mlinspace(x2_min, x2_max))\n\u001b[1;32m     <a href='vscode-notebook-cell:/media/tounani/Data/Github/old/ML%26DL/p2/p2_log.ipynb#X16sZmlsZQ%3D%3D?line=10'>11</a>\u001b[0m grid \u001b[39m=\u001b[39m np\u001b[39m.\u001b[39mc_[xx1\u001b[39m.\u001b[39mravel(), xx2\u001b[39m.\u001b[39mravel()]\n\u001b[0;32m---> <a href='vscode-notebook-cell:/media/tounani/Data/Github/old/ML%26DL/p2/p2_log.ipynb#X16sZmlsZQ%3D%3D?line=11'>12</a>\u001b[0m probs \u001b[39m=\u001b[39m predict(grid, theta)\u001b[39m.\u001b[39mreshape(xx1\u001b[39m.\u001b[39mshape)\n\u001b[1;32m     <a href='vscode-notebook-cell:/media/tounani/Data/Github/old/ML%26DL/p2/p2_log.ipynb#X16sZmlsZQ%3D%3D?line=12'>13</a>\u001b[0m plt\u001b[39m.\u001b[39mcontour(xx1, xx2, probs, [\u001b[39m0.5\u001b[39m], linewidths\u001b[39m=\u001b[39m\u001b[39m1\u001b[39m, colors\u001b[39m=\u001b[39m\u001b[39m'\u001b[39m\u001b[39mblack\u001b[39m\u001b[39m'\u001b[39m)\n\u001b[1;32m     <a href='vscode-notebook-cell:/media/tounani/Data/Github/old/ML%26DL/p2/p2_log.ipynb#X16sZmlsZQ%3D%3D?line=13'>14</a>\u001b[0m plt\u001b[39m.\u001b[39mlegend()\n",
      "\u001b[1;32m/media/tounani/Data/Github/old/ML&DL/p2/p2_log.ipynb Cell 14\u001b[0m line \u001b[0;36m3\n\u001b[1;32m      <a href='vscode-notebook-cell:/media/tounani/Data/Github/old/ML%26DL/p2/p2_log.ipynb#X16sZmlsZQ%3D%3D?line=1'>2</a>\u001b[0m \u001b[39mdef\u001b[39;00m \u001b[39mpredict\u001b[39m(X, theta):\n\u001b[0;32m----> <a href='vscode-notebook-cell:/media/tounani/Data/Github/old/ML%26DL/p2/p2_log.ipynb#X16sZmlsZQ%3D%3D?line=2'>3</a>\u001b[0m     z \u001b[39m=\u001b[39m np\u001b[39m.\u001b[39;49mdot(X, theta) \u001b[39m# z = theta.T * X\u001b[39;00m\n\u001b[1;32m      <a href='vscode-notebook-cell:/media/tounani/Data/Github/old/ML%26DL/p2/p2_log.ipynb#X16sZmlsZQ%3D%3D?line=3'>4</a>\u001b[0m     h \u001b[39m=\u001b[39m sigmoid(z) \u001b[39m# h is the sigmoid function\u001b[39;00m\n\u001b[1;32m      <a href='vscode-notebook-cell:/media/tounani/Data/Github/old/ML%26DL/p2/p2_log.ipynb#X16sZmlsZQ%3D%3D?line=4'>5</a>\u001b[0m     h \u001b[39m=\u001b[39m h\u001b[39m.\u001b[39mround() \u001b[39m# round to 0 or 1\u001b[39;00m\n",
      "\u001b[0;31mValueError\u001b[0m: shapes (2500,2) and (4,) not aligned: 2 (dim 1) != 4 (dim 0)"
     ]
    },
    {
     "data": {
      "image/png": "[encoded data removed]",
      "text/plain": [
       "<Figure size 640x480 with 1 Axes>"
      ]
     },
     "metadata": {},
     "output_type": "display_data"
    }
   ],
   "source": [
    "main()"
   ]
  }
 ],
 "metadata": {
  "kernelspec": {
   "display_name": "Python 3",
   "language": "python",
   "name": "python3"
  },
  "language_info": {
   "codemirror_mode": {
    "name": "ipython",
    "version": 3
   },
   "file_extension": ".py",
   "mimetype": "text/x-python",
   "name": "python",
   "nbconvert_exporter": "python",
   "pygments_lexer": "ipython3",
   "version": "3.10.12"
  }
 },
 "nbformat": 4,
 "nbformat_minor": 2
}
