{
 "cells": [
  {
   "cell_type": "code",
   "execution_count": 1,
   "id": "a6ec5f7b",
   "metadata": {},
   "outputs": [],
   "source": [
    "### Commencer par défénir les bibliothèques utilisées\n",
    "import numpy as np"
   ]
  },
  {
   "cell_type": "code",
   "execution_count": 2,
   "id": "efd9b665",
   "metadata": {},
   "outputs": [
    {
     "name": "stdout",
     "output_type": "stream",
     "text": [
      "[[ 0.7 -0.2]\n",
      " [-0.4  0.3]]\n"
     ]
    }
   ],
   "source": [
    "### L'architecture de RNA choisie pour le problème de XOR\n",
    "## Nous aurons comme entrée 2 neurones et comme sortie : soit 1 neurone soit 2 neurones de sortie\n",
    "## On définit alors les paramètres de réseaux de neurones comme suit:\n",
    "RNA=[]\n",
    "W1=np.array([[0.7,-0.2],[-0.4,0.3]])\n",
    "b1=np.array([1,0])\n",
    "W2=np.array([[0.5,0.1]])\n",
    "b2=np.array([1])\n",
    "RNA.append([W1,b1])\n",
    "RNA.append([W2,b2])\n",
    "#### \n",
    "print(RNA[0][0])"
   ]
  },
  {
   "cell_type": "code",
   "execution_count": 3,
   "id": "fe4632da",
   "metadata": {},
   "outputs": [],
   "source": [
    "#### La base de données\n",
    "X=np.array([[1,0],[0,0],[0,1],[1,1]])\n",
    "Y=np.array([1,0,1,0])"
   ]
  },
  {
   "cell_type": "code",
   "execution_count": 4,
   "id": "4d745098",
   "metadata": {},
   "outputs": [],
   "source": [
    "## La fonction neurone\n",
    "def neurone(x,g,w,b):\n",
    "    z=np.dot(x,w)+b\n",
    "    return np.array([z,g(z)])\n",
    "\n",
    "def activ(s):\n",
    "    return 1/(1+np.exp(-s))"
   ]
  },
  {
   "cell_type": "code",
   "execution_count": 5,
   "id": "dc8f8e4b",
   "metadata": {},
   "outputs": [
    {
     "name": "stdout",
     "output_type": "stream",
     "text": [
      "[1.7        0.84553473]\n",
      "[-0.4         0.40131234]\n"
     ]
    }
   ],
   "source": [
    "print(neurone(X[0],activ,RNA[0][0][0],RNA[0][1][0]))### la sortie de neurone 1 de la couche caché\n",
    "print(neurone(X[0],activ,RNA[0][0][1],RNA[0][1][1]))### la sortie de neurone 2 de la couche caché"
   ]
  },
  {
   "cell_type": "code",
   "execution_count": 6,
   "id": "09b7ba34",
   "metadata": {},
   "outputs": [],
   "source": [
    "#### La fonction Couche\n",
    "def couche(x,g,W,b):\n",
    "    z=[]\n",
    "    a=[]\n",
    "    for i in range(W.shape[0]):\n",
    "        z.append(neurone(x,g,W[i],b[i])[0])\n",
    "        a.append(neurone(x,g,W[i],b[i])[1])\n",
    "    return np.array(z),np.array(a)"
   ]
  },
  {
   "cell_type": "code",
   "execution_count": 7,
   "id": "45cd91c7",
   "metadata": {},
   "outputs": [
    {
     "name": "stdout",
     "output_type": "stream",
     "text": [
      "[0.84553473 0.40131234]\n",
      "[ 1.7 -0.4]\n",
      "[0.81197561]\n",
      "[1.4628986]\n"
     ]
    }
   ],
   "source": [
    "z1,a1=couche(X[0],activ,RNA[0][0],RNA[0][1])\n",
    "z2,a2=couche(a1,activ,RNA[1][0],RNA[1][1])\n",
    "print(a1)\n",
    "print(z1)\n",
    "print(a2)\n",
    "print(z2)"
   ]
  },
  {
   "cell_type": "code",
   "execution_count": 110,
   "id": "116d2fa3",
   "metadata": {},
   "outputs": [],
   "source": [
    "### Définir l'algorithme de propagation avant pour un RNA pour un exemple x\n",
    "def prop_avant(x,RNA):\n",
    "    a=[]*(len(RNA)+1)\n",
    "    z=[]*(len(RNA)+1)\n",
    "    a.append(np.array(x))\n",
    "    z.append(np.array([x]))\n",
    "    \n",
    "    for i in range(len(RNA)):\n",
    "        #W=RNA[i][0]\n",
    "        #b=RNA[i][1]\n",
    "        #couche(a[i][1],activ,W,b)[0]\n",
    "        \n",
    "        z1,a1=couche(a[i],activ,RNA[i][0],RNA[i][1])\n",
    "        z.append(z1)\n",
    "        a.append(a1)\n",
    "        #print(\"la parition lineaire {} de couche {}\".format(z[i],i))\n",
    "        #a.append(couche(a[i][1],activ,W,b)[1])\n",
    "        \n",
    "    return z,a"
   ]
  },
  {
   "cell_type": "code",
   "execution_count": 111,
   "id": "39d0c0f3",
   "metadata": {},
   "outputs": [
    {
     "name": "stdout",
     "output_type": "stream",
     "text": [
      "[array([1, 0]), array([0.15446527, 0.59868766]), array([0.24285295])]\n",
      "[array([[1, 0]]), array([ 1.7, -0.4]), array([1.1371014])]\n",
      "[[1]\n",
      " [0]]\n"
     ]
    }
   ],
   "source": [
    "z,a=prop_avant(X[0],RNA)\n",
    "print(a)\n",
    "print(z)\n",
    "print(z[0].T)"
   ]
  },
  {
   "cell_type": "code",
   "execution_count": 68,
   "id": "352f3a0d",
   "metadata": {},
   "outputs": [],
   "source": [
    "### ### fonction cout\n",
    "def cout_classification(a,y):\n",
    "    return np.sum(-y*np.log(a)-(1-y)*np.log(1-a))\n",
    "###\n",
    "### Définir une fonction de moyenne d'erreurs\n",
    "\n",
    "def erreur_moy(RNA,cout,X,Y):\n",
    "    err=0\n",
    "    for i in range(len(Y)): \n",
    "        ### Y.shape[0]\n",
    "        a=prop_avant(X[i],RNA)\n",
    "        err+=cout(a[1][-1],Y[i])*(1/len(Y))\n",
    "    return err"
   ]
  },
  {
   "cell_type": "code",
   "execution_count": 73,
   "id": "adb17b3b",
   "metadata": {},
   "outputs": [
    {
     "name": "stdout",
     "output_type": "stream",
     "text": [
      "1.4152991828985817\n",
      "0.2668986229538734\n",
      "1.4614143313854782\n",
      "0.2765967122494966\n",
      "0.8550522123718575\n"
     ]
    }
   ],
   "source": [
    "z,a=prop_avant(X[0],RNA)\n",
    "print(cout_classification(a[-1],Y[0]))\n",
    "z,a=prop_avant(X[1],RNA)\n",
    "print(cout_classification(a[-1],Y[1]))\n",
    "z,a=prop_avant(X[2],RNA)\n",
    "print(cout_classification(a[-1],Y[2]))\n",
    "z,a=prop_avant(X[3],RNA)\n",
    "print(cout_classification(a[-1],Y[3]))\n",
    "print(erreur_moy(RNA,cout_classification,X,Y))"
   ]
  },
  {
   "cell_type": "code",
   "execution_count": 78,
   "id": "200d9a1a",
   "metadata": {},
   "outputs": [],
   "source": [
    "#### la retro_propagation des gradients\n",
    "### On commence de definir la fonction dérivée de l'activation\n",
    "def dev_g(s):\n",
    "    return np.exp(-s)/(1-np.exp(-s))**2\n",
    "\n",
    "##########################################\n",
    "def retro_prop_c_sortie(RNA,a,z,y):\n",
    "    #da2=-y/a2+(1-y)/(1-a2)\n",
    "    da2=-y/a[-1]+(1-y)/(1-a[-1])\n",
    "    #print(da2)\n",
    "    #dz2=da2*dev_g(z2)\n",
    "    dz2=da2*dev_g(z[-1])\n",
    "    #print(dz2)\n",
    "    #dw2=dz2*a1\n",
    "    dW2=dz2*a[1]\n",
    "    #print(dW2)\n",
    "    db2=dz2\n",
    "    #da1=W2*dz2\n",
    "    W=RNA[1][0][0]\n",
    "    da1=W*dz2\n",
    "    return da1,dW2,db2"
   ]
  },
  {
   "cell_type": "code",
   "execution_count": 79,
   "id": "c26dd8ce",
   "metadata": {},
   "outputs": [
    {
     "name": "stdout",
     "output_type": "stream",
     "text": [
      "[-1.43128837 -0.28625767]\n",
      "[-0.44216867 -1.71378936]\n",
      "[-2.86257673]\n"
     ]
    }
   ],
   "source": [
    "z,a=prop_avant(X[0],RNA)\n",
    "[da1,dW2,db2]=retro_prop_c_sortie(RNA,a,z,Y[0])\n",
    "print(da1)\n",
    "print(dW2)\n",
    "print(db2)"
   ]
  },
  {
   "cell_type": "code",
   "execution_count": 112,
   "id": "d6421ccb",
   "metadata": {},
   "outputs": [],
   "source": [
    "def retro_prop_c_cache(RNA,a,z,da1):\n",
    "    #dz2=da2*dev_g(z2)\n",
    "    dz1=da1*dev_g(z[1])\n",
    "    print(dz1)\n",
    "    #dw2=dz2*a1\n",
    "    #dW1=dz1*a[1].T\n",
    "    dW1=dz1*z[0].T\n",
    "    #print(dW1)\n",
    "    db1=dz1\n",
    "    \n",
    "    return dW1,db1"
   ]
  },
  {
   "cell_type": "code",
   "execution_count": 113,
   "id": "b34c7a28",
   "metadata": {},
   "outputs": [
    {
     "name": "stdout",
     "output_type": "stream",
     "text": [
      "[-0.39142271 -1.76544528]\n"
     ]
    },
    {
     "data": {
      "text/plain": [
       "(array([[-0.39142271, -1.76544528],\n",
       "        [-0.        , -0.        ]]),\n",
       " array([-0.39142271, -1.76544528]))"
      ]
     },
     "execution_count": 113,
     "metadata": {},
     "output_type": "execute_result"
    }
   ],
   "source": [
    "retro_prop_c_cache(RNA,a,z,da1)\n",
    "#dW1,db1=retro_prop_c_cache(RNA,a,da1)"
   ]
  },
  {
   "cell_type": "code",
   "execution_count": null,
   "id": "a3f2794c",
   "metadata": {},
   "outputs": [],
   "source": [
    "##### L'apprentissage de réseau\n",
    "#### la mise à jour de W et b\n",
    "#### alpha, n iter maxi, X,y,errre, prop avant, retropro,\n",
    "\n",
    "def Apprentissage_RNA(RNA,alpha,n_it,X,y):\n",
    "    err=[]\n",
    "    for _ in range(n_it):\n",
    "        for i in range (X.shape[0])\n",
    "        a=prop_avant(X[i],RNA)\n",
    "        err+=cout(a[1][-1],Y[i])*(1/len(Y))\n",
    "        "
   ]
  }
 ],
 "metadata": {
  "kernelspec": {
   "display_name": "Python 3 (ipykernel)",
   "language": "python",
   "name": "python3"
  },
  "language_info": {
   "codemirror_mode": {
    "name": "ipython",
    "version": 3
   },
   "file_extension": ".py",
   "mimetype": "text/x-python",
   "name": "python",
   "nbconvert_exporter": "python",
   "pygments_lexer": "ipython3",
   "version": "3.9.13"
  }
 },
 "nbformat": 4,
 "nbformat_minor": 5
}
