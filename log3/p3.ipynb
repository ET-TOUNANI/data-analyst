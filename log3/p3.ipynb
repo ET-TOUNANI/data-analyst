{
 "cells": [
  {
   "cell_type": "code",
   "execution_count": 275,
   "metadata": {},
   "outputs": [],
   "source": [
    "import seaborn as sns\n",
    "import numpy as np\n",
    "from sklearn.datasets import make_blobs\n",
    "from scipy.spatial import distance"
   ]
  },
  {
   "cell_type": "code",
   "execution_count": 276,
   "metadata": {},
   "outputs": [],
   "source": [
    "#centers = [[1, 2],[7, 8]]\n",
    "centers = [[0, 0],[1, 1]]\n",
    "data, labels = make_blobs(n_samples=10, centers=centers) \n",
    "# n_samples: number of samples, centers: number of centers"
   ]
  },
  {
   "cell_type": "code",
   "execution_count": 277,
   "metadata": {},
   "outputs": [
    {
     "name": "stdout",
     "output_type": "stream",
     "text": [
      "Inerie totale:  2.0624850223101965\n",
      "Inerie totale prof:  2.0624850223101965\n",
      "10\n"
     ]
    }
   ],
   "source": [
    "# calculate inerie totale of data\n",
    "def inerie_totale(data):\n",
    "    inerie_totale = 0\n",
    "    for i in range(len(data)):\n",
    "        inerie_totale += distance.euclidean(data[i], np.mean(data, axis=0))**2\n",
    "    return inerie_totale\n",
    "print (\"Inerie totale: \", inerie_totale(data)/data.shape[0])\n",
    "\n",
    "# PROF VERSION\n",
    "def inerie_totale_prof(data):\n",
    "   g=np.mean(data,axis=0)\n",
    "   inerie_totale=0\n",
    "   for i in range(data.shape[0]):\n",
    "     inerie_totale += distance.euclidean(data[i],g)**2\n",
    "   return inerie_totale/data.shape[0]\n",
    "print (\"Inerie totale prof: \", inerie_totale_prof(data))\n",
    "print(data.shape[0])"
   ]
  },
  {
   "cell_type": "code",
   "execution_count": 278,
   "metadata": {},
   "outputs": [
    {
     "data": {
      "text/plain": [
       "array([0, 1])"
      ]
     },
     "execution_count": 278,
     "metadata": {},
     "output_type": "execute_result"
    }
   ],
   "source": [
    "np.unique(labels)"
   ]
  },
  {
   "cell_type": "code",
   "execution_count": 279,
   "metadata": {},
   "outputs": [
    {
     "name": "stdout",
     "output_type": "stream",
     "text": [
      "[[ 1.19605782  1.37164157]\n",
      " [-0.75420273  1.62750207]\n",
      " [-0.19479298  0.87034616]\n",
      " [ 1.3547336  -0.14895913]\n",
      " [ 2.39587137  2.33959555]\n",
      " [ 0.33326326  0.64182416]\n",
      " [ 0.88100105  1.3684675 ]\n",
      " [-0.3992308   0.85190342]\n",
      " [-1.05978622 -1.05312246]\n",
      " [ 0.5883318  -0.74436901]]\n"
     ]
    }
   ],
   "source": [
    "print(data)"
   ]
  },
  {
   "cell_type": "code",
   "execution_count": 280,
   "metadata": {},
   "outputs": [
    {
     "data": {
      "text/plain": [
       "array([1, 1, 1, 0, 1, 0, 1, 0, 0, 0])"
      ]
     },
     "execution_count": 280,
     "metadata": {},
     "output_type": "execute_result"
    }
   ],
   "source": [
    "labels"
   ]
  },
  {
   "cell_type": "code",
   "execution_count": 281,
   "metadata": {},
   "outputs": [
    {
     "data": {
      "text/plain": [
       "<Axes: >"
      ]
     },
     "execution_count": 281,
     "metadata": {},
     "output_type": "execute_result"
    },
    {
     "data": {
      "image/png": "[encoded data removed]",
      "text/plain": [
       "<Figure size 640x480 with 1 Axes>"
      ]
     },
     "metadata": {},
     "output_type": "display_data"
    }
   ],
   "source": [
    "sns.scatterplot(x=data[:,0], y=data[:,1], hue=labels)"
   ]
  },
  {
   "cell_type": "code",
   "execution_count": 282,
   "metadata": {},
   "outputs": [],
   "source": [
    "# Inertier inter_\n",
    "def inertieInter (data, labels):\n",
    "    inertie = 0\n",
    "    for i in range(len(data)):\n",
    "        inertie += distance.euclidean(data[i], centers[labels[i]])\n",
    "    return inertie\n"
   ]
  },
  {
   "cell_type": "code",
   "execution_count": 283,
   "metadata": {},
   "outputs": [
    {
     "name": "stdout",
     "output_type": "stream",
     "text": [
      "11.27669113259652\n"
     ]
    }
   ],
   "source": [
    "print(inertieInter(data, labels)) "
   ]
  },
  {
   "cell_type": "code",
   "execution_count": 284,
   "metadata": {},
   "outputs": [],
   "source": [
    "# Inertie Intra\n",
    "def inertieIntra (data, labels):\n",
    "    inertie = 0\n",
    "    for i in range(len(data)):\n",
    "        inertie += distance.euclidean(data[i], centers[labels[i]])\n",
    "    return inertie / len(data)\n"
   ]
  },
  {
   "cell_type": "code",
   "execution_count": 285,
   "metadata": {},
   "outputs": [
    {
     "name": "stdout",
     "output_type": "stream",
     "text": [
      "1.127669113259652\n"
     ]
    }
   ],
   "source": [
    "print(inertieIntra(data, labels))"
   ]
  },
  {
   "cell_type": "code",
   "execution_count": 286,
   "metadata": {},
   "outputs": [
    {
     "name": "stdout",
     "output_type": "stream",
     "text": [
      "12.404360245856171\n"
     ]
    }
   ],
   "source": [
    "print(inertieInter(data, labels) + inertieIntra(data, labels))"
   ]
  }
 ],
 "metadata": {
  "kernelspec": {
   "display_name": "Python 3",
   "language": "python",
   "name": "python3"
  },
  "language_info": {
   "codemirror_mode": {
    "name": "ipython",
    "version": 3
   },
   "file_extension": ".py",
   "mimetype": "text/x-python",
   "name": "python",
   "nbconvert_exporter": "python",
   "pygments_lexer": "ipython3",
   "version": "3.10.12"
  }
 },
 "nbformat": 4,
 "nbformat_minor": 2
}
