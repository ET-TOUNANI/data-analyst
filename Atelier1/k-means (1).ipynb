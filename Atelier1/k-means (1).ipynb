{
 "cells": [
  {
   "cell_type": "code",
   "execution_count": 32,
   "id": "f4c30b24",
   "metadata": {},
   "outputs": [],
   "source": [
    "import numpy as np\n",
    "from sklearn.datasets import make_blobs"
   ]
  },
  {
   "cell_type": "code",
   "execution_count": 33,
   "id": "f832ad10",
   "metadata": {},
   "outputs": [],
   "source": [
    "centers=[[0,0],[3,3]]\n",
    "\n",
    "data,labels=make_blobs(centers=centers,n_samples=10)\n",
    "\n",
    "def cluster2(labels):\n",
    "\n",
    "\n",
    "\n",
    "\n",
    "\n",
    "\n",
    "\n",
    "\n",
    "\n",
    "\n",
    "\n",
    "\n",
    "\n",
    "\n",
    "\n",
    "\n",
    "\n",
    "\n",
    "\n",
    "\n",
    "\n",
    "\n",
    "\n",
    "\n",
    "\n",
    "\n",
    "\n",
    "\n",
    "\n",
    "\n",
    "\n",
    "\n",
    "\n",
    "\n",
    "\n",
    "\n",
    "\n",
    "\n",
    "\n",
    "\n",
    "data, true_labels=make_blobs(centers=centers,n_samples=10)\n"
   ]
  },
  {
   "cell_type": "code",
   "execution_count": 34,
   "id": "930043e9",
   "metadata": {},
   "outputs": [],
   "source": [
    "def cluster(data,true_labels):\n",
    "    cluster=[[] for _ in range(2)]\n",
    "    for i in range(data.shape[0]):\n",
    "        cluster[true_labels[i]].append(data[i])\n",
    "    return cluster"
   ]
  },
  {
   "cell_type": "code",
   "execution_count": 35,
   "id": "f9b68105",
   "metadata": {},
   "outputs": [],
   "source": [
    "from scipy.spatial import distance\n",
    "def inertie_intra_class(cluster):\n",
    "    n=0\n",
    "    inertie=0\n",
    "    for c1 in cluster:\n",
    "        s=0\n",
    "        for x in c1:\n",
    "            for y in c1:\n",
    "                s+=distance.euclidean(x,y)**2\n",
    "        n=n+len(c1)\n",
    "        inertie+=s/(2*len(c1))\n",
    "    print(n)\n",
    "    return inertie/n"
   ]
  },
  {
   "cell_type": "code",
   "execution_count": 36,
   "id": "01166fc7",
   "metadata": {},
   "outputs": [],
   "source": [
    "def intra_clas(cluster):\n",
    "    i=0\n",
    "    for c1 in cluster:\n",
    "        ic=0\n",
    "        for x in c1:\n",
    "            ic=ic+distance.euclidean(x,np.mean(c1,axis=0))**2\n",
    "        i=i+ic/len(c1)\n",
    "    return i/len(cluster)"
   ]
  },
  {
   "cell_type": "code",
   "execution_count": 37,
   "id": "d25e76fb",
   "metadata": {},
   "outputs": [],
   "source": [
    "#def affectation, mise a jour, fit, Iinter"
   ]
  },
  {
   "cell_type": "code",
   "execution_count": 38,
   "id": "884f1c00",
   "metadata": {},
   "outputs": [],
   "source": [
    "def Expectation(data, W):\n",
    "    Exp=[]\n",
    "    Gr=[[] for _ in range(W.shape[0])]\n",
    "    for x in data:\n",
    "        liste=[]\n",
    "        for i in range(W.shape[0]):\n",
    "            liste.append(distance.euclidean(x,W[i]))\n",
    "        Exp.append(np.argmin(liste))\n",
    "        Gr[np.argmin(liste)].append(x)\n",
    "    return Exp,Gr\n",
    "            \n",
    "            \n",
    "            \n",
    "            \n",
    "            "
   ]
  }
 ],
 "metadata": {
  "kernelspec": {
   "display_name": "Python 3 (ipykernel)",
   "language": "python",
   "name": "python3"
  },
  "language_info": {
   "codemirror_mode": {
    "name": "ipython",
    "version": 3
   },
   "file_extension": ".py",
   "mimetype": "text/x-python",
   "name": "python",
   "nbconvert_exporter": "python",
   "pygments_lexer": "ipython3",
   "version": "3.10.12"
  }
 },
 "nbformat": 4,
 "nbformat_minor": 5
}
